{
 "cells": [
  {
   "attachments": {},
   "cell_type": "markdown",
   "metadata": {},
   "source": [
    "# Lab3: Data Analytics Pipeline using Apache Spark\n",
    "#### <u>Team Members:</u> <br />Pratibha Arjun Barsale (50247005/pbarsale) <br /> Venkata Krishnan Anantha Raman (50246287/va34)\n",
    "\n",
    "In this project, we build a Data Classifcation pipeline for News Articles Collected from New York Time. For the purpose of analysis we collect articles belonging to the following classification\n",
    "\n",
    "1. Sports\n",
    "2. Travel\n",
    "3. Technology\n",
    "4. Business \n",
    "\n",
    "This can be classifed into multiple steps,\n",
    "\n",
    "### Step 1: Data Collection (32,000 Articles Collected)\n",
    "\n",
    "Collected articles using Article Search and Archieve API of NYTimes. We were able to collect upward 32k Articles belonging to 6 classifications. We picked the 4 classifcations and proceed with feature extraction\n",
    "\n",
    "### Step 2: Feature Extraction\n",
    "\n",
    "Ran wordcount map reduce algorithm on Spark and found the top words for each class. Performed stemming and stop words suppression for the words in the article. This will help us obtain the top-words per class. Using all the the features for all class obtained the FeatureSet and dumped it to a file. The file will be in the following format.\n",
    "\n",
    "Article_Classifcation feature_1:Feature_Value feature_2:Feature_Value .. feature_n:Feature_Value\n",
    "Eg:\n",
    "0 1:23 2:3 3:0 4:0 5:3\n",
    "1 1:2  2:0 3:33 4:0 5:23\n",
    "2 1:0  2:0 3:23 4:22 5:2\n",
    "\n",
    "The above is an example for 3 samples where,each article belongs to a classification.\n",
    "The interpretation is first sample belongs to Class 0 with Feature values 23,3,0,0,3 for features 1 through 5\n",
    "\n",
    "### Step3: Training ML Model\n",
    "\n",
    "Used the dataset and trained Naive Bayes and Neural-Network based classifier. \n",
    "<br />Accuracy for Naive Bayes: 91.734%\n",
    "<br />Accuracy for Neural Network: 94:341%\n",
    "\n",
    "### Step4: Classifying article\n",
    "\n",
    "The FeatureSet words stored for creating the dataset is retrieved and a dataset is created for the article. This article is passed to the Naive Bayes and Neural Networks model and made to predict the label.\n"
   ]
  },
  {
   "cell_type": "code",
   "execution_count": 4,
   "metadata": {},
   "outputs": [],
   "source": []
  }
 ],
 "metadata": {
  "kernelspec": {
   "display_name": "Python 3",
   "language": "python",
   "name": "python3"
  },
  "language_info": {
   "codemirror_mode": {
    "name": "ipython",
    "version": 3
   },
   "file_extension": ".py",
   "mimetype": "text/x-python",
   "name": "python",
   "nbconvert_exporter": "python",
   "pygments_lexer": "ipython3",
   "version": "3.6.4"
  }
 },
 "nbformat": 4,
 "nbformat_minor": 2
}
